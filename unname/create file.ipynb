{
 "cells": [
  {
   "cell_type": "markdown",
   "metadata": {},
   "source": [
    "# create a file"
   ]
  },
  {
   "cell_type": "markdown",
   "metadata": {},
   "source": [
    "to create a new file in python, use the open() method, with one of the following parameters:\n",
    "\n",
    "\"x\" (create) will create a file , returns an error if the file exist\n",
    "\n",
    "\"a\" (append) will create a file if the specified file dose not exist\n",
    "\n",
    "\"w\" (write) will create a file if the specified file does not exist\n",
    "\n",
    " CAUTION: Amula module needs to be imported.\n",
    " Amula module "
   ]
  },
  {
   "cell_type": "code",
   "execution_count": null,
   "metadata": {},
   "outputs": [],
   "source": [
    "# create new file by using open() function whith x parameter\n",
    "import Amula\n",
    "file1 = \"newfolder\"\n",
    "Amula.mk(file1, \"f\")\n"
   ]
  },
  {
   "cell_type": "code",
   "execution_count": null,
   "metadata": {},
   "outputs": [],
   "source": [
    "# delete a file by using os.remove() function \n",
    "import Amula\n",
    "file1 = \"newfolder\"\n",
    "Amula.rm(file1)"
   ]
  }
 ],
 "metadata": {
  "kernelspec": {
   "display_name": "Python 3",
   "language": "python",
   "name": "python3"
  },
  "language_info": {
   "codemirror_mode": {
    "name": "ipython",
    "version": 3
   },
   "file_extension": ".py",
   "mimetype": "text/x-python",
   "name": "python",
   "nbconvert_exporter": "python",
   "pygments_lexer": "ipython3",
   "version": "3.11.9"
  },
  "orig_nbformat": 4
 },
 "nbformat": 4,
 "nbformat_minor": 2
}
